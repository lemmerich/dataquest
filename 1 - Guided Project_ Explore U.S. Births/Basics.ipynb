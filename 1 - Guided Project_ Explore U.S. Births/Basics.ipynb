{
 "cells": [
  {
   "cell_type": "code",
   "execution_count": 1,
   "metadata": {
    "collapsed": false
   },
   "outputs": [
    {
     "name": "stdout",
     "output_type": "stream",
     "text": [
      "['year,month,date_of_month,day_of_week,births', '1994,1,1,6,8096', '1994,1,2,7,7772', '1994,1,3,1,10142', '1994,1,4,2,11248', '1994,1,5,3,11053', '1994,1,6,4,11406', '1994,1,7,5,11251', '1994,1,8,6,8653', '1994,1,9,7,7910']\n"
     ]
    }
   ],
   "source": [
    "births = open(\"US_births_1994-2003_CDC_NCHS.csv\", \"r\").read().split(\"\\n\")\n",
    "print(births[0:10])"
   ]
  },
  {
   "cell_type": "code",
   "execution_count": 2,
   "metadata": {
    "collapsed": false
   },
   "outputs": [
    {
     "name": "stdout",
     "output_type": "stream",
     "text": [
      "[[1994, 1, 1, 6, 8096], [1994, 1, 2, 7, 7772], [1994, 1, 3, 1, 10142], [1994, 1, 4, 2, 11248], [1994, 1, 5, 3, 11053], [1994, 1, 6, 4, 11406], [1994, 1, 7, 5, 11251], [1994, 1, 8, 6, 8653], [1994, 1, 9, 7, 7910], [1994, 1, 10, 1, 10498]]\n"
     ]
    }
   ],
   "source": [
    "def read_csv(fileName):\n",
    "    string_list = open(fileName, \"r\").read().split(\"\\n\")\n",
    "    string_list = string_list[1:len(string_list)]\n",
    "    final_list = []\n",
    "    for record in string_list:\n",
    "        int_fields = []\n",
    "        string_fields = record.split(\",\")\n",
    "        for field in string_fields:\n",
    "            int_fields.append(int(field))\n",
    "        final_list.append(int_fields)\n",
    "    return final_list\n",
    "\n",
    "cd_list = read_csv(\"US_births_1994-2003_CDC_NCHS.csv\")\n",
    "print(cd_list[0:10])"
   ]
  },
  {
   "cell_type": "code",
   "execution_count": 3,
   "metadata": {
    "collapsed": false
   },
   "outputs": [
    {
     "name": "stdout",
     "output_type": "stream",
     "text": [
      "{1: 3232517, 2: 3018140, 3: 3322069, 4: 3185314, 5: 3350907, 6: 3296530, 7: 3498783, 8: 3525858, 9: 3439698, 10: 3378814, 11: 3171647, 12: 3301860}\n"
     ]
    }
   ],
   "source": [
    "def month_births(births):\n",
    "    births_per_month = {}\n",
    "    for birth in births:\n",
    "        if(birth[1] in births_per_month):\n",
    "            births_per_month[birth[1]] +=  birth[4]\n",
    "        else:\n",
    "            births_per_month[birth[1]] =  birth[4]\n",
    "    return births_per_month\n",
    "\n",
    "cdc_month_births = month_births(cd_list)\n",
    "print(cdc_month_births)\n",
    "            \n",
    "    "
   ]
  },
  {
   "cell_type": "code",
   "execution_count": 4,
   "metadata": {
    "collapsed": false
   },
   "outputs": [
    {
     "name": "stdout",
     "output_type": "stream",
     "text": [
      "{1: 5789166, 2: 6446196, 3: 6322855, 4: 6288429, 5: 6233657, 6: 4562111, 7: 4079723}\n"
     ]
    }
   ],
   "source": [
    "def dow_births(births):\n",
    "    births_per_dow = {}\n",
    "    for birth in births:\n",
    "        if(birth[3] in births_per_dow):\n",
    "            births_per_dow[birth[3]] +=  birth[4]\n",
    "        else:\n",
    "            births_per_dow[birth[3]] =  birth[4]\n",
    "    return births_per_dow\n",
    "cdc_day_births = dow_births(cd_list)\n",
    "print(cdc_day_births)"
   ]
  },
  {
   "cell_type": "code",
   "execution_count": 9,
   "metadata": {
    "collapsed": false
   },
   "outputs": [
    {
     "name": "stdout",
     "output_type": "stream",
     "text": [
      "{1: 5789166, 2: 6446196, 3: 6322855, 4: 6288429, 5: 6233657, 6: 4562111, 7: 4079723}\n"
     ]
    }
   ],
   "source": [
    "def calc_counts(births, column):\n",
    "    births_per_dow = {}\n",
    "    for birth in births:\n",
    "        if(birth[column] in births_per_dow):\n",
    "            births_per_dow[birth[column]] +=  birth[4]\n",
    "        else:\n",
    "            births_per_dow[birth[column]] =  birth[4]\n",
    "    return births_per_dow\n",
    "\n",
    "cdc_year_births = calc_counts(cd_list, 0)\n",
    "cdc_month_births = calc_counts(cd_list, 1)\n",
    "cdc_dom_births = calc_counts(cd_list, 2)\n",
    "cdc_dow_births = calc_counts(cd_list, 3)\n",
    "\n",
    "print(cdc_dow_births)"
   ]
  },
  {
   "cell_type": "code",
   "execution_count": null,
   "metadata": {
    "collapsed": true
   },
   "outputs": [],
   "source": []
  }
 ],
 "metadata": {
  "anaconda-cloud": {},
  "kernelspec": {
   "display_name": "Python 3",
   "language": "python",
   "name": "python3"
  },
  "language_info": {
   "codemirror_mode": {
    "name": "ipython",
    "version": 3
   },
   "file_extension": ".py",
   "mimetype": "text/x-python",
   "name": "python",
   "nbconvert_exporter": "python",
   "pygments_lexer": "ipython3",
   "version": "3.4.3"
  }
 },
 "nbformat": 4,
 "nbformat_minor": 1
}
